{
  "cells": [
    {
      "cell_type": "markdown",
      "metadata": {
        "id": "view-in-github",
        "colab_type": "text"
      },
      "source": [
        "<a href=\"https://colab.research.google.com/github/AaryaDesai1/XAI_Adversarial_Patch/blob/main/Adversarial_Patches.ipynb\" target=\"_parent\"><img src=\"https://colab.research.google.com/assets/colab-badge.svg\" alt=\"Open In Colab\"/></a>"
      ]
    },
    {
      "cell_type": "markdown",
      "metadata": {
        "id": "iCDe5qVYNeKc"
      },
      "source": [
        "# AIPI 590 - XAI | Assignment #02\n",
        "### Adversarial Patches\n",
        "### Aarya Desai"
      ]
    },
    {
      "cell_type": "markdown",
      "source": [
        "## Resources Used:\n",
        "1. Dr. Bent's [GitHub](https://github.com/AIPI-590-XAI/Duke-AI-XAI/blob/main/adversarial-ai-example-notebooks/adversarial_attacks.ipynb). This is where the code is from. It has been slightly tweaked towards the end for personalized performance.\n",
        "2. ChatGPT: This was used for some of the Markdowns throughout this notebook, to gain a better understanding of the code and what it's doing."
      ],
      "metadata": {
        "id": "OR5kJWGXCmrb"
      }
    },
    {
      "cell_type": "code",
      "execution_count": null,
      "metadata": {
        "id": "yjIL8aAfNeKe"
      },
      "outputs": [],
      "source": [
        "# Please use this to connect your GitHub repository to your Google Colab notebook\n",
        "# Connects to any needed files from GitHub and Google Drive\n",
        "import os\n",
        "\n",
        "# Remove Colab default sample_data\n",
        "!rm -r ./sample_data\n",
        "\n",
        "# Clone GitHub files to colab workspace\n",
        "repo_name = \"Duke-AI-XAI\" # Change to your repo name\n",
        "git_path = 'https://github.com/AIPI-590-XAI/Duke-AI-XAI.git' #Change to your path\n",
        "!git clone \"{git_path}\"\n",
        "\n",
        "# Install dependencies from requirements.txt file\n",
        "#!pip install -r \"{os.path.join(repo_name,'requirements.txt')}\" #Add if using requirements.txt\n",
        "\n",
        "# Change working directory to location of notebook\n",
        "notebook_dir = 'templates'\n",
        "path_to_notebook = os.path.join(repo_name,notebook_dir)\n",
        "%cd \"{path_to_notebook}\"\n",
        "%ls"
      ]
    },
    {
      "cell_type": "markdown",
      "metadata": {
        "id": "aNjmZ2XDNeKf"
      },
      "source": [
        "#### Using environment variables in Google Colab\n",
        "\n",
        "In Google Colab, locate the key button on the left side of the screen. You can enter in any environment variables or API keys here and they will remain private.\n",
        "\n",
        "Then add the environment variables to your notebook using the code below.\n",
        "\n",
        "Make sure to document in your notebook if you are using API keys and how to get them (ie share a link for documentation to get a Hugging Face API Key if you are using Hugging Face)"
      ]
    },
    {
      "cell_type": "code",
      "execution_count": null,
      "metadata": {
        "id": "XhSr3Q2cNeKf"
      },
      "outputs": [],
      "source": [
        "from google.colab import userdata\n",
        "userdata.get('secretName')"
      ]
    },
    {
      "cell_type": "markdown",
      "source": [
        "# Code to Create Adversarial Patches\n",
        "This code was taken from Dr. Brinnae Bent's [GitHub](https://github.com/AIPI-590-XAI/Duke-AI-XAI/blob/main/adversarial-ai-example-notebooks/adversarial_attacks.ipynb), where she has written all the code required to download the data, create the patches, and show said patches.\n",
        "\n",
        "For better understanding of the code, the following code chunks will be preceeded by markdowns giving some insight into what each of the cells are doing."
      ],
      "metadata": {
        "id": "IGC8LCw6-9uw"
      }
    },
    {
      "cell_type": "markdown",
      "source": [
        "## Importing the necessary libraries\n",
        "\n",
        "### Standard Libraries:\n",
        "`os`, `json`, `math`, `time`, `numpy`, `scipy.linalg`: General utilities for file operations, JSON handling, math functions, time measurements, and advanced mathematical operations.\n",
        "\n",
        "`torch`, `torch.nn`, `torch.nn.functional`, `torch.utils.data`, `torch.optim`: Core libraries for building and training neural networks.\n",
        "\n",
        "`torchvision`: Provides image datasets and transformations.\n",
        "\n",
        "`pytorch_lightning`: Simplifies PyTorch code for training and validation."
      ],
      "metadata": {
        "id": "t7vc3Hmj_wHk"
      }
    },
    {
      "cell_type": "code",
      "source": [
        "## Standard libraries\n",
        "import os\n",
        "import json\n",
        "import math\n",
        "import time\n",
        "import numpy as np\n",
        "import scipy.linalg\n",
        "\n",
        "## Imports for plotting\n",
        "import matplotlib.pyplot as plt\n",
        "%matplotlib inline\n",
        "from IPython.display import set_matplotlib_formats\n",
        "set_matplotlib_formats('svg', 'pdf') # For export\n",
        "from matplotlib.colors import to_rgb\n",
        "import matplotlib\n",
        "matplotlib.rcParams['lines.linewidth'] = 2.0\n",
        "import seaborn as sns\n",
        "sns.set()\n",
        "\n",
        "## Progress bar\n",
        "from tqdm.notebook import tqdm\n",
        "\n",
        "## PyTorch\n",
        "import torch\n",
        "import torch.nn as nn\n",
        "import torch.nn.functional as F\n",
        "import torch.utils.data as data\n",
        "import torch.optim as optim\n",
        "# Torchvision\n",
        "import torchvision\n",
        "from torchvision.datasets import CIFAR10\n",
        "from torchvision import transforms\n",
        "\n",
        "# PyTorch Lightning\n",
        "try:\n",
        "    import pytorch_lightning as pl\n",
        "except ModuleNotFoundError: # Google Colab does not have PyTorch Lightning installed by default. Hence, we do it here if necessary\n",
        "    !pip install --quiet pytorch-lightning>=1.4\n",
        "    import pytorch_lightning as pl\n",
        "from pytorch_lightning.callbacks import LearningRateMonitor, ModelCheckpoint"
      ],
      "metadata": {
        "id": "USiFVn_aQRuK",
        "collapsed": true
      },
      "execution_count": null,
      "outputs": []
    },
    {
      "cell_type": "markdown",
      "source": [
        "## Setting up the Workspace:\n",
        "The following code chunk first sets up the dataset and checkpoint paths, where the datasets and pretrained models will be stored.\n",
        "\n",
        "Then it sets a random seed for reproducibility.\n",
        "\n",
        "Lastly, it configures the GPU operations for determinism and then determines the device for computation. It also ensures that the CPU is used in case the GPU is unavailable."
      ],
      "metadata": {
        "id": "-iavPTVXAomy"
      }
    },
    {
      "cell_type": "code",
      "source": [
        "# Path to the folder where the datasets are/should be downloaded (e.g. MNIST)\n",
        "DATASET_PATH = \"../data\"\n",
        "# Path to the folder where the pretrained models are saved\n",
        "CHECKPOINT_PATH = \"../saved_models/tutorial10\"\n",
        "\n",
        "# Setting the seed\n",
        "pl.seed_everything(42)\n",
        "\n",
        "# Ensure that all operations are deterministic on GPU (if used) for reproducibility\n",
        "torch.backends.cudnn.deterministic = True\n",
        "torch.backends.cudnn.benchmark = False\n",
        "\n",
        "# Fetching the device that will be used throughout this notebook\n",
        "device = torch.device(\"cpu\") if not torch.cuda.is_available() else torch.device(\"cuda:0\")\n",
        "print(\"Using device\", device)"
      ],
      "metadata": {
        "id": "wJX48JPsT8T_",
        "collapsed": true
      },
      "execution_count": null,
      "outputs": []
    },
    {
      "cell_type": "markdown",
      "source": [
        "## Downloading and Preparing the Data:\n",
        "The following code chunk handles the downloading and preparation of necessary files for the project:\n",
        "\n",
        "1. Define the Base URL and Files: Specifies the URL where the dataset and pretrained models are hosted and lists the files to be downloaded.\n",
        "2. Create Directories: Ensures that the directories for storing the dataset and checkpoint files exist, creating them if necessary.\n",
        "3. Download Files: Checks if each file already exists. If not, it downloads the file from the specified URL.\n",
        "4. Unzip Files: If a downloaded file is a ZIP archive, it extracts its contents to the appropriate directory."
      ],
      "metadata": {
        "id": "0EMKm731BGVc"
      }
    },
    {
      "cell_type": "code",
      "source": [
        "import urllib.request\n",
        "from urllib.error import HTTPError\n",
        "import zipfile\n",
        "# Github URL where the dataset is stored for this tutorial\n",
        "base_url = \"https://raw.githubusercontent.com/phlippe/saved_models/main/tutorial10/\"\n",
        "# Files to download\n",
        "pretrained_files = [(DATASET_PATH, \"TinyImageNet.zip\"), (CHECKPOINT_PATH, \"patches.zip\")]\n",
        "# Create checkpoint path if it doesn't exist yet\n",
        "os.makedirs(DATASET_PATH, exist_ok=True)\n",
        "os.makedirs(CHECKPOINT_PATH, exist_ok=True)\n",
        "\n",
        "# For each file, check whether it already exists. If not, try downloading it.\n",
        "for dir_name, file_name in pretrained_files:\n",
        "    file_path = os.path.join(dir_name, file_name)\n",
        "    if not os.path.isfile(file_path):\n",
        "        file_url = base_url + file_name\n",
        "        print(f\"Downloading {file_url}...\")\n",
        "        try:\n",
        "            urllib.request.urlretrieve(file_url, file_path)\n",
        "        except HTTPError as e:\n",
        "            print(\"Something went wrong. Please try to download the file from the GDrive folder, or contact the author with the full output including the following error:\\n\", e)\n",
        "        if file_name.endswith(\".zip\"):\n",
        "            print(\"Unzipping file...\")\n",
        "            with zipfile.ZipFile(file_path, 'r') as zip_ref:\n",
        "                zip_ref.extractall(file_path.rsplit(\"/\",1)[0])"
      ],
      "metadata": {
        "id": "NWFoQHOvT-3v",
        "collapsed": true
      },
      "execution_count": null,
      "outputs": []
    },
    {
      "cell_type": "markdown",
      "source": [
        "## Loading and Preparing Pretrained Model:\n",
        "\n",
        "The following code snippet sets the environment for saving and loading model checkpoints. It then loads a ResNet-34 model pretrained on ImageNet and moves it to the specified device (CPU or GPU). The model is set to evaluation mode, and gradient calculations are turned off to optimize performance during inference."
      ],
      "metadata": {
        "id": "30SmTg01BqdD"
      }
    },
    {
      "cell_type": "code",
      "source": [
        "# Load CNN architecture pretrained on ImageNet\n",
        "os.environ[\"TORCH_HOME\"] = CHECKPOINT_PATH\n",
        "pretrained_model = torchvision.models.resnet34(weights='IMAGENET1K_V1')\n",
        "pretrained_model = pretrained_model.to(device)\n",
        "\n",
        "# No gradients needed for the network\n",
        "pretrained_model.eval()\n",
        "for p in pretrained_model.parameters():\n",
        "    p.requires_grad = False"
      ],
      "metadata": {
        "id": "2odoGfrpUB8J",
        "collapsed": true
      },
      "execution_count": null,
      "outputs": []
    },
    {
      "cell_type": "markdown",
      "source": [
        "## Data Preparation and Loading:\n",
        "\n",
        "The code defines normalization parameters for preprocessing ImageNet images, sets up a series of transformations including converting images to tensors and normalizing them. It then loads the Tiny ImageNet dataset from the specified path, creating a DataLoader to handle batch processing. Finally, it reads label names from a JSON file to interpret class labels and provides a function to get label indices from label names."
      ],
      "metadata": {
        "id": "lL6OAcFHB1fO"
      }
    },
    {
      "cell_type": "code",
      "source": [
        "# Mean and Std from ImageNet\n",
        "NORM_MEAN = np.array([0.485, 0.456, 0.406])\n",
        "NORM_STD = np.array([0.229, 0.224, 0.225])\n",
        "# No resizing and center crop necessary as images are already preprocessed.\n",
        "plain_transforms = transforms.Compose([\n",
        "    transforms.ToTensor(),\n",
        "    transforms.Normalize(mean=NORM_MEAN,\n",
        "                         std=NORM_STD)\n",
        "])\n",
        "\n",
        "# Load dataset and create data loader\n",
        "imagenet_path = os.path.join(DATASET_PATH, \"TinyImageNet/\")\n",
        "assert os.path.isdir(imagenet_path), f\"Could not find the ImageNet dataset at expected path \\\"{imagenet_path}\\\". \" + \\\n",
        "                                     f\"Please make sure to have downloaded the ImageNet dataset here, or change the {DATASET_PATH=} variable.\"\n",
        "dataset = torchvision.datasets.ImageFolder(root=imagenet_path, transform=plain_transforms)\n",
        "data_loader = data.DataLoader(dataset, batch_size=32, shuffle=False, drop_last=False, num_workers=8)\n",
        "\n",
        "# Load label names to interpret the label numbers 0 to 999\n",
        "with open(os.path.join(imagenet_path, \"label_list.json\"), \"r\") as f:\n",
        "    label_names = json.load(f)\n",
        "\n",
        "def get_label_index(lab_str):\n",
        "    assert lab_str in label_names, f\"Label \\\"{lab_str}\\\" not found. Check the spelling of the class.\"\n",
        "    return label_names.index(lab_str)"
      ],
      "metadata": {
        "id": "2mGTfKvtUFh1",
        "collapsed": true
      },
      "execution_count": null,
      "outputs": []
    },
    {
      "cell_type": "markdown",
      "source": [
        "## Placing Adversarial Patch:\n",
        "\n",
        "The function place_patch randomly places a given patch onto multiple images. It selects random offsets within each image and replaces a portion of the image with the patch. The patch is applied to each channel of the image, and the modified image is returned."
      ],
      "metadata": {
        "id": "rEU9Hl1QB80S"
      }
    },
    {
      "cell_type": "code",
      "source": [
        "def place_patch(img, patch):\n",
        "    for i in range(img.shape[0]):\n",
        "        h_offset = np.random.randint(0,img.shape[2]-patch.shape[1]-1)\n",
        "        w_offset = np.random.randint(0,img.shape[3]-patch.shape[2]-1)\n",
        "        img[i,:,h_offset:h_offset+patch.shape[1],w_offset:w_offset+patch.shape[2]] = patch_forward(patch)\n",
        "    return img"
      ],
      "metadata": {
        "id": "y0nbIuolN3xv"
      },
      "execution_count": null,
      "outputs": []
    },
    {
      "cell_type": "markdown",
      "source": [
        "## Patch Normalization:\n",
        "\n",
        "The code defines tensors for ImageNet normalization means and standard deviations. The function patch_forward normalizes a patch by mapping its values from the range\n",
        "[−∞,∞] to the ImageNet value range using the tanh function and the defined normalization parameters."
      ],
      "metadata": {
        "id": "SR9cVIeMCD8A"
      }
    },
    {
      "cell_type": "code",
      "source": [
        "TENSOR_MEANS, TENSOR_STD = torch.FloatTensor(NORM_MEAN)[:,None,None], torch.FloatTensor(NORM_STD)[:,None,None]\n",
        "def patch_forward(patch):\n",
        "    # Map patch values from [-infty,infty] to ImageNet min and max\n",
        "    patch = (torch.tanh(patch) + 1 - 2 * TENSOR_MEANS) / (2 * TENSOR_STD)\n",
        "    return patch"
      ],
      "metadata": {
        "id": "38lejvcCN6Sh"
      },
      "execution_count": null,
      "outputs": []
    },
    {
      "cell_type": "markdown",
      "source": [
        "## Evaluating Adversarial Patch:\n",
        "\n",
        "The function `eval_patch` assesses the effectiveness of an adversarial patch using a validation dataset. For each image, the patch is placed at four random locations, and the model's predictions are evaluated. It calculates the accuracy of the patch in making the model misclassify images that are not of the target class, as well as the top-5 accuracy. The function returns these metrics to gauge the patch's performance."
      ],
      "metadata": {
        "id": "NNbLkz1sDDh6"
      }
    },
    {
      "cell_type": "code",
      "source": [
        "def eval_patch(model, patch, val_loader, target_class):\n",
        "    model.eval()\n",
        "    tp, tp_5, counter = 0., 0., 0.\n",
        "    with torch.no_grad():\n",
        "        for img, img_labels in tqdm(val_loader, desc=\"Validating...\", leave=False):\n",
        "            # For stability, place the patch at 4 random locations per image, and average the performance\n",
        "            for _ in range(4):\n",
        "                patch_img = place_patch(img, patch)\n",
        "                patch_img = patch_img.to(device)\n",
        "                img_labels = img_labels.to(device)\n",
        "                pred = model(patch_img)\n",
        "                # In the accuracy calculation, we need to exclude the images that are of our target class\n",
        "                # as we would not \"fool\" the model into predicting those\n",
        "                tp += torch.logical_and(pred.argmax(dim=-1) == target_class, img_labels != target_class).sum()\n",
        "                tp_5 += torch.logical_and((pred.topk(5, dim=-1)[1] == target_class).any(dim=-1), img_labels != target_class).sum()\n",
        "                counter += (img_labels != target_class).sum()\n",
        "    acc = tp/counter\n",
        "    top5 = tp_5/counter\n",
        "    return acc, top5"
      ],
      "metadata": {
        "id": "LhYD--WPN-3r"
      },
      "execution_count": null,
      "outputs": []
    },
    {
      "cell_type": "markdown",
      "source": [
        "## Adversarial Patch Attack:\n",
        "\n",
        "The function `patch_attack` trains an adversarial patch to mislead a model into predicting a specific target class. It splits the dataset into training and validation sets, creates a patch parameter to optimize, and sets up the training loop with SGD. The patch is trained over a specified number of epochs to maximize the model's misclassification of images. After training, it evaluates the patch's effectiveness on a hold-out set and returns the patch and its performance metrics."
      ],
      "metadata": {
        "id": "_lB4WdL6DNdF"
      }
    },
    {
      "cell_type": "code",
      "source": [
        "def patch_attack(model, target_class, patch_size=64, num_epochs=5):\n",
        "    # Leave a small set of images out to check generalization\n",
        "    # In most of our experiments, the performance on the hold-out data points\n",
        "    # was as good as on the training set. Overfitting was little possible due\n",
        "    # to the small size of the patches.\n",
        "    train_set, val_set = torch.utils.data.random_split(dataset, [4500, 500])\n",
        "    train_loader = data.DataLoader(train_set, batch_size=32, shuffle=True, drop_last=True, num_workers=8)\n",
        "    val_loader = data.DataLoader(val_set, batch_size=32, shuffle=False, drop_last=False, num_workers=4)\n",
        "\n",
        "    # Create parameter and optimizer\n",
        "    if not isinstance(patch_size, tuple):\n",
        "        patch_size = (patch_size, patch_size)\n",
        "    patch = nn.Parameter(torch.zeros(3, patch_size[0], patch_size[1]), requires_grad=True)\n",
        "    optimizer = torch.optim.SGD([patch], lr=1e-1, momentum=0.8)\n",
        "    loss_module = nn.CrossEntropyLoss()\n",
        "\n",
        "    # Training loop\n",
        "    for epoch in range(num_epochs):\n",
        "        t = tqdm(train_loader, leave=False)\n",
        "        for img, _ in t:\n",
        "            img = place_patch(img, patch)\n",
        "            img = img.to(device)\n",
        "            pred = model(img)\n",
        "            labels = torch.zeros(img.shape[0], device=pred.device, dtype=torch.long).fill_(target_class)\n",
        "            loss = loss_module(pred, labels)\n",
        "            optimizer.zero_grad()\n",
        "            loss.mean().backward()\n",
        "            optimizer.step()\n",
        "            t.set_description(f\"Epoch {epoch}, Loss: {loss.item():4.2f}\")\n",
        "\n",
        "    # Final validation\n",
        "    acc, top5 = eval_patch(model, patch, val_loader, target_class)\n",
        "\n",
        "    return patch.data, {\"acc\": acc.item(), \"top5\": top5.item()}"
      ],
      "metadata": {
        "id": "T8lSH1BTPhNm"
      },
      "execution_count": null,
      "outputs": []
    },
    {
      "cell_type": "markdown",
      "source": [
        "## Managing Evaluation Results:\n",
        "\n",
        "The code loads evaluation results for pretrained patches from a JSON file if it exists. It also provides a function, `save_results`, to save the results of newly trained patches to the same file format. The results are stored in a structured dictionary, where tensor values are converted to standard Python data types before saving."
      ],
      "metadata": {
        "id": "gZGOupVjDWU6"
      }
    },
    {
      "cell_type": "code",
      "source": [
        "# Load evaluation results of the pretrained patches\n",
        "json_results_file = os.path.join(CHECKPOINT_PATH, \"patch_results.json\")\n",
        "json_results = {}\n",
        "if os.path.isfile(json_results_file):\n",
        "    with open(json_results_file, \"r\") as f:\n",
        "        json_results = json.load(f)\n",
        "\n",
        "# If you train new patches, you can save the results via calling this function\n",
        "def save_results(patch_dict):\n",
        "    result_dict = {cname: {psize: [t.item() if isinstance(t, torch.Tensor) else t\n",
        "                                   for t in patch_dict[cname][psize][\"results\"]]\n",
        "                           for psize in patch_dict[cname]}\n",
        "                   for cname in patch_dict}\n",
        "    with open(os.path.join(CHECKPOINT_PATH, \"patch_results.json\"), \"w\") as f:\n",
        "        json.dump(result_dict, f, indent=4)"
      ],
      "metadata": {
        "id": "igbHcl2KPkL-"
      },
      "execution_count": null,
      "outputs": []
    },
    {
      "cell_type": "markdown",
      "source": [
        "## Patch Retrieval and Evaluation:\n",
        "\n",
        "The function `get_patches` manages adversarial patches for multiple classes. It checks if a pretrained patch exists; if not, it trains a new patch and saves it. For each class and patch size, it either loads the results from a previous evaluation or computes new ones. The results and patches are stored in a dictionary for easy access."
      ],
      "metadata": {
        "id": "gu4ei8tEDeGN"
      }
    },
    {
      "cell_type": "code",
      "source": [
        "def get_patches(class_names, patch_sizes):\n",
        "    result_dict = dict()\n",
        "\n",
        "    # Loop over all classes\n",
        "    for name in class_names:\n",
        "        result_dict[name] = dict()\n",
        "        c = label_names.index(name)\n",
        "\n",
        "        # Choose the first patch size (or you could use any other logic)\n",
        "        patch_size = patch_sizes[0]\n",
        "        file_name = os.path.join(CHECKPOINT_PATH, f\"{name}_{patch_size}_patch.pt\")\n",
        "\n",
        "        # Load patch if pretrained file exists, otherwise start training\n",
        "        if not os.path.isfile(file_name):\n",
        "            patch, val_results = patch_attack(pretrained_model, target_class=c, patch_size=patch_size, num_epochs=5)\n",
        "            print(f\"Validation results for {name} and {patch_size}:\", val_results)\n",
        "            torch.save(patch, file_name)\n",
        "        else:\n",
        "            patch = torch.load(file_name)\n",
        "\n",
        "        # Evaluate the patch for all patch sizes\n",
        "        for size in patch_sizes:\n",
        "            if name in json_results:\n",
        "                results = json_results[name].get(str(size), None)\n",
        "            else:\n",
        "                results = eval_patch(pretrained_model, patch, data_loader, target_class=c)\n",
        "\n",
        "            # Store results and the patch in a dict for better access\n",
        "            result_dict[name][size] = {\n",
        "                \"results\": results,\n",
        "                \"patch\": patch\n",
        "            }\n",
        "\n",
        "    return result_dict\n"
      ],
      "metadata": {
        "id": "bFj95I9MPmMy"
      },
      "execution_count": null,
      "outputs": []
    },
    {
      "cell_type": "markdown",
      "source": [
        "## Choosing my Patches:\n",
        "Here, I chose the following two classes that I wanted the app to misclassify my patch as. I thought it would be really interesting to have a patch that could misclassify something as a medieval device and also, if we could put an adversarial sticker on a tech product, and it misclassifying it as an iPod no matter what it is.\n",
        "\n",
        "Also, the sizes selected were based on the starter code provided by Dr. Bent."
      ],
      "metadata": {
        "id": "3tM16C85DgwB"
      }
    },
    {
      "cell_type": "code",
      "source": [
        "class_names = ['guillotine', 'iPod']\n",
        "patch_sizes = [32, 48, 64]\n",
        "\n",
        "patch_dict = get_patches(class_names, patch_sizes)"
      ],
      "metadata": {
        "id": "5UMm4ExePrK-",
        "collapsed": true
      },
      "execution_count": null,
      "outputs": []
    },
    {
      "cell_type": "markdown",
      "source": [
        "## Showing the Patch:\n",
        "The following code is a slight variation from the original code as it allows you to choose one patch at a time instead of printing all of them in a grid. Here, you select the class name and the patch size and get your patch!"
      ],
      "metadata": {
        "id": "PCks4hX1D3o2"
      }
    },
    {
      "cell_type": "code",
      "source": [
        "def show_patch(cname, psize):\n",
        "    # Check if the class name and patch size exist in the dictionary\n",
        "    if cname not in patch_dict or psize not in patch_dict[cname]:\n",
        "        print(f\"Patch for class '{cname}' and size '{psize}' not found.\")\n",
        "        return\n",
        "\n",
        "    # Get the patch\n",
        "    patch = patch_dict[cname][psize][\"patch\"]\n",
        "\n",
        "    # Process the patch for display\n",
        "    patch = (torch.tanh(patch) + 1) / 2  # Convert to pixel values\n",
        "    patch = patch.cpu().permute(1, 2, 0).numpy()\n",
        "    patch = np.clip(patch, a_min=0.0, a_max=1.0)\n",
        "\n",
        "    # Create the plot\n",
        "    plt.figure(figsize=(4, 4))  # Adjust the size as needed\n",
        "    plt.imshow(patch)\n",
        "    plt.axis('off')  # Hide axes\n",
        "    plt.show()\n",
        "\n",
        "# Example usage: Display patch for class 'class1' and patch size 32\n",
        "show_patch('iPod', 64)"
      ],
      "metadata": {
        "id": "9-TlXcIotkaf",
        "outputId": "2c960c7a-4a76-4b9c-806f-a8a74d21ac5f",
        "colab": {
          "base_uri": "https://localhost:8080/",
          "height": 336
        }
      },
      "execution_count": null,
      "outputs": [
        {
          "output_type": "display_data",
          "data": {
            "text/plain": [
              "<Figure size 400x400 with 1 Axes>"
            ],
            "image/svg+xml": "<?xml version=\"1.0\" encoding=\"utf-8\" standalone=\"no\"?>\n<!DOCTYPE svg PUBLIC \"-//W3C//DTD SVG 1.1//EN\"\n  \"http://www.w3.org/Graphics/SVG/1.1/DTD/svg11.dtd\">\n<svg xmlns:xlink=\"http://www.w3.org/1999/xlink\" width=\"236.16pt\" height=\"236.16pt\" viewBox=\"0 0 236.16 236.16\" xmlns=\"http://www.w3.org/2000/svg\" version=\"1.1\">\n <metadata>\n  <rdf:RDF xmlns:dc=\"http://purl.org/dc/elements/1.1/\" xmlns:cc=\"http://creativecommons.org/ns#\" xmlns:rdf=\"http://www.w3.org/1999/02/22-rdf-syntax-ns#\">\n   <cc:Work>\n    <dc:type rdf:resource=\"http://purl.org/dc/dcmitype/StillImage\"/>\n    <dc:date>2024-09-11T20:14:58.529649</dc:date>\n    <dc:format>image/svg+xml</dc:format>\n    <dc:creator>\n     <cc:Agent>\n      <dc:title>Matplotlib v3.7.1, https://matplotlib.org/</dc:title>\n     </cc:Agent>\n    </dc:creator>\n   </cc:Work>\n  </rdf:RDF>\n </metadata>\n <defs>\n  <style type=\"text/css\">*{stroke-linejoin: round; stroke-linecap: butt}</style>\n </defs>\n <g id=\"figure_1\">\n  <g id=\"patch_1\">\n   <path d=\"M 0 236.16 \nL 236.16 236.16 \nL 236.16 0 \nL 0 0 \nz\n\" style=\"fill: #ffffff\"/>\n  </g>\n  <g id=\"axes_1\">\n   <g clip-path=\"url(#p44fcdaff16)\">\n    <image xlink:href=\"data:image/png;base64,\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\" id=\"image3f13d2afe5\" transform=\"scale(1 -1) translate(0 -221.76)\" x=\"7.2\" y=\"-7.2\" width=\"221.76\" height=\"221.76\"/>\n   </g>\n  </g>\n </g>\n <defs>\n  <clipPath id=\"p44fcdaff16\">\n   <rect x=\"7.2\" y=\"7.2\" width=\"221.76\" height=\"221.76\"/>\n  </clipPath>\n </defs>\n</svg>\n",
            "application/pdf": "[encoded data removed]"
          },
          "metadata": {}
        }
      ]
    }
  ],
  "metadata": {
    "language_info": {
      "name": "python"
    },
    "colab": {
      "provenance": [],
      "gpuType": "T4",
      "include_colab_link": true
    },
    "kernelspec": {
      "name": "python3",
      "display_name": "Python 3"
    },
    "accelerator": "GPU"
  },
  "nbformat": 4,
  "nbformat_minor": 0
}